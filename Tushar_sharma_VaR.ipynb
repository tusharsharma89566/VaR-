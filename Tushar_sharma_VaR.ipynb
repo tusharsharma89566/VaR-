{
  "nbformat": 4,
  "nbformat_minor": 0,
  "metadata": {
    "colab": {
      "provenance": []
    },
    "kernelspec": {
      "name": "python3",
      "display_name": "Python 3"
    },
    "language_info": {
      "name": "python"
    }
  },
  "cells": [
    {
      "cell_type": "code",
      "execution_count": 1,
      "metadata": {
        "colab": {
          "base_uri": "https://localhost:8080/"
        },
        "id": "qi5MYREhL8my",
        "outputId": "6d1435fd-469e-428a-bad1-3183e63093d4"
      },
      "outputs": [
        {
          "output_type": "stream",
          "name": "stdout",
          "text": [
            "\n",
            "Usage:   \n",
            "  pip3 install [options] <requirement specifier> [package-index-options] ...\n",
            "  pip3 install [options] -r <requirements file> [package-index-options] ...\n",
            "  pip3 install [options] [-e] <vcs project url> ...\n",
            "  pip3 install [options] [-e] <local project path> ...\n",
            "  pip3 install [options] <archive url/path> ...\n",
            "\n",
            "no such option: --queit\n"
          ]
        }
      ],
      "source": [
        "!pip install  --queit yfinance"
      ]
    },
    {
      "cell_type": "code",
      "source": [
        "import pandas as pd\n",
        "import matplotlib.pyplot as plt\n",
        "import yfinance as yf\n",
        "import seaborn as sns\n",
        "from scipy import stats\n",
        "import time\n",
        "from pandas_datareader import data as pdr\n",
        "import datetime as dt\n",
        "import numpy as np\n",
        "\n",
        "sns.set_style('whitegrid')\n",
        "%matplotlib inline\n",
        "\n"
      ],
      "metadata": {
        "id": "v52ZxADPMvfs"
      },
      "execution_count": 2,
      "outputs": []
    },
    {
      "cell_type": "code",
      "source": [
        "tickers = ['AAPL', 'MSFT', 'GOOGL', 'AMZN']\n",
        "weights = np.array([0.25, 0.25, 0.25, 0.25])\n",
        "\n",
        "start = dt.datetime(2020, 1, 1)\n",
        "end = dt.datetime.today()\n",
        "\n",
        "prices = pd.DataFrame() #index = pd.date_range(start,end)\n",
        "\n",
        "for ticker in tickers:\n",
        "  print(f\"Fetching {ticker}...\", end = \" \")\n",
        "  try:\n",
        "    df = yf.Ticker(ticker).history(\n",
        "        start = start.strftime('%Y-%m-%d'),\n",
        "        end = end.strftime('%Y-%m-%d'),\n",
        "        auto_adjust = True,\n",
        "    )\n",
        "    series = df['Close']\n",
        "    print(\"✔️ yfinance\", end = \"\")\n",
        "  except Exception as e:\n",
        "    print(f\" ❌yfinance ({e}); falling back to Stooq\", end = \"\")\n",
        "    df2 = pdr.DataReader(ticker, 'stooq', start, end)\n",
        "    df2 = df2.sort_index()\n",
        "    series = df2['Close']\n",
        "  prices[ticker] = series\n",
        "  time.sleep(1)\n",
        "  print()\n",
        "\n",
        "prices = prices.dropna(how = 'all').ffill().bfill()\n",
        "\n",
        "print(prices.tail())"
      ],
      "metadata": {
        "colab": {
          "base_uri": "https://localhost:8080/"
        },
        "id": "igXRhNrTYxOF",
        "outputId": "2fde7f01-eb68-4e86-895e-85353479cb66"
      },
      "execution_count": 3,
      "outputs": [
        {
          "output_type": "stream",
          "name": "stdout",
          "text": [
            "Fetching AAPL... ✔️ yfinance\n",
            "Fetching MSFT... ✔️ yfinance\n",
            "Fetching GOOGL... ✔️ yfinance\n",
            "Fetching AMZN... ✔️ yfinance\n",
            "                                 AAPL        MSFT       GOOGL        AMZN\n",
            "Date                                                                     \n",
            "2025-06-17 00:00:00-04:00  195.639999  478.040009  175.949997  214.820007\n",
            "2025-06-18 00:00:00-04:00  196.580002  480.239990  173.320007  212.520004\n",
            "2025-06-20 00:00:00-04:00  201.000000  477.399994  166.639999  209.690002\n",
            "2025-06-23 00:00:00-04:00  201.500000  486.000000  165.190002  208.470001\n",
            "2025-06-24 00:00:00-04:00  200.300003  490.109985  166.770004  212.770004\n"
          ]
        }
      ]
    },
    {
      "cell_type": "code",
      "source": [
        "logR = np.log(prices / prices.shift(1)).dropna()\n",
        "logR.head()"
      ],
      "metadata": {
        "colab": {
          "base_uri": "https://localhost:8080/",
          "height": 237
        },
        "id": "x5OOJTEjZWpc",
        "outputId": "bb324d40-abd9-4f84-997f-1d32dc1b4180"
      },
      "execution_count": 4,
      "outputs": [
        {
          "output_type": "execute_result",
          "data": {
            "text/plain": [
              "                               AAPL      MSFT     GOOGL      AMZN\n",
              "Date                                                             \n",
              "2020-01-03 00:00:00-05:00 -0.009770 -0.012530 -0.005245 -0.012213\n",
              "2020-01-06 00:00:00-05:00  0.007937  0.002582  0.026305  0.014776\n",
              "2020-01-07 00:00:00-05:00 -0.004714 -0.009160 -0.001933  0.002089\n",
              "2020-01-08 00:00:00-05:00  0.015958  0.015803  0.007092 -0.007839\n",
              "2020-01-09 00:00:00-05:00  0.021019  0.012416  0.010443  0.004788"
            ],
            "text/html": [
              "\n",
              "  <div id=\"df-d409f6cb-9ae0-4104-a660-416fe360eb81\" class=\"colab-df-container\">\n",
              "    <div>\n",
              "<style scoped>\n",
              "    .dataframe tbody tr th:only-of-type {\n",
              "        vertical-align: middle;\n",
              "    }\n",
              "\n",
              "    .dataframe tbody tr th {\n",
              "        vertical-align: top;\n",
              "    }\n",
              "\n",
              "    .dataframe thead th {\n",
              "        text-align: right;\n",
              "    }\n",
              "</style>\n",
              "<table border=\"1\" class=\"dataframe\">\n",
              "  <thead>\n",
              "    <tr style=\"text-align: right;\">\n",
              "      <th></th>\n",
              "      <th>AAPL</th>\n",
              "      <th>MSFT</th>\n",
              "      <th>GOOGL</th>\n",
              "      <th>AMZN</th>\n",
              "    </tr>\n",
              "    <tr>\n",
              "      <th>Date</th>\n",
              "      <th></th>\n",
              "      <th></th>\n",
              "      <th></th>\n",
              "      <th></th>\n",
              "    </tr>\n",
              "  </thead>\n",
              "  <tbody>\n",
              "    <tr>\n",
              "      <th>2020-01-03 00:00:00-05:00</th>\n",
              "      <td>-0.009770</td>\n",
              "      <td>-0.012530</td>\n",
              "      <td>-0.005245</td>\n",
              "      <td>-0.012213</td>\n",
              "    </tr>\n",
              "    <tr>\n",
              "      <th>2020-01-06 00:00:00-05:00</th>\n",
              "      <td>0.007937</td>\n",
              "      <td>0.002582</td>\n",
              "      <td>0.026305</td>\n",
              "      <td>0.014776</td>\n",
              "    </tr>\n",
              "    <tr>\n",
              "      <th>2020-01-07 00:00:00-05:00</th>\n",
              "      <td>-0.004714</td>\n",
              "      <td>-0.009160</td>\n",
              "      <td>-0.001933</td>\n",
              "      <td>0.002089</td>\n",
              "    </tr>\n",
              "    <tr>\n",
              "      <th>2020-01-08 00:00:00-05:00</th>\n",
              "      <td>0.015958</td>\n",
              "      <td>0.015803</td>\n",
              "      <td>0.007092</td>\n",
              "      <td>-0.007839</td>\n",
              "    </tr>\n",
              "    <tr>\n",
              "      <th>2020-01-09 00:00:00-05:00</th>\n",
              "      <td>0.021019</td>\n",
              "      <td>0.012416</td>\n",
              "      <td>0.010443</td>\n",
              "      <td>0.004788</td>\n",
              "    </tr>\n",
              "  </tbody>\n",
              "</table>\n",
              "</div>\n",
              "    <div class=\"colab-df-buttons\">\n",
              "\n",
              "  <div class=\"colab-df-container\">\n",
              "    <button class=\"colab-df-convert\" onclick=\"convertToInteractive('df-d409f6cb-9ae0-4104-a660-416fe360eb81')\"\n",
              "            title=\"Convert this dataframe to an interactive table.\"\n",
              "            style=\"display:none;\">\n",
              "\n",
              "  <svg xmlns=\"http://www.w3.org/2000/svg\" height=\"24px\" viewBox=\"0 -960 960 960\">\n",
              "    <path d=\"M120-120v-720h720v720H120Zm60-500h600v-160H180v160Zm220 220h160v-160H400v160Zm0 220h160v-160H400v160ZM180-400h160v-160H180v160Zm440 0h160v-160H620v160ZM180-180h160v-160H180v160Zm440 0h160v-160H620v160Z\"/>\n",
              "  </svg>\n",
              "    </button>\n",
              "\n",
              "  <style>\n",
              "    .colab-df-container {\n",
              "      display:flex;\n",
              "      gap: 12px;\n",
              "    }\n",
              "\n",
              "    .colab-df-convert {\n",
              "      background-color: #E8F0FE;\n",
              "      border: none;\n",
              "      border-radius: 50%;\n",
              "      cursor: pointer;\n",
              "      display: none;\n",
              "      fill: #1967D2;\n",
              "      height: 32px;\n",
              "      padding: 0 0 0 0;\n",
              "      width: 32px;\n",
              "    }\n",
              "\n",
              "    .colab-df-convert:hover {\n",
              "      background-color: #E2EBFA;\n",
              "      box-shadow: 0px 1px 2px rgba(60, 64, 67, 0.3), 0px 1px 3px 1px rgba(60, 64, 67, 0.15);\n",
              "      fill: #174EA6;\n",
              "    }\n",
              "\n",
              "    .colab-df-buttons div {\n",
              "      margin-bottom: 4px;\n",
              "    }\n",
              "\n",
              "    [theme=dark] .colab-df-convert {\n",
              "      background-color: #3B4455;\n",
              "      fill: #D2E3FC;\n",
              "    }\n",
              "\n",
              "    [theme=dark] .colab-df-convert:hover {\n",
              "      background-color: #434B5C;\n",
              "      box-shadow: 0px 1px 3px 1px rgba(0, 0, 0, 0.15);\n",
              "      filter: drop-shadow(0px 1px 2px rgba(0, 0, 0, 0.3));\n",
              "      fill: #FFFFFF;\n",
              "    }\n",
              "  </style>\n",
              "\n",
              "    <script>\n",
              "      const buttonEl =\n",
              "        document.querySelector('#df-d409f6cb-9ae0-4104-a660-416fe360eb81 button.colab-df-convert');\n",
              "      buttonEl.style.display =\n",
              "        google.colab.kernel.accessAllowed ? 'block' : 'none';\n",
              "\n",
              "      async function convertToInteractive(key) {\n",
              "        const element = document.querySelector('#df-d409f6cb-9ae0-4104-a660-416fe360eb81');\n",
              "        const dataTable =\n",
              "          await google.colab.kernel.invokeFunction('convertToInteractive',\n",
              "                                                    [key], {});\n",
              "        if (!dataTable) return;\n",
              "\n",
              "        const docLinkHtml = 'Like what you see? Visit the ' +\n",
              "          '<a target=\"_blank\" href=https://colab.research.google.com/notebooks/data_table.ipynb>data table notebook</a>'\n",
              "          + ' to learn more about interactive tables.';\n",
              "        element.innerHTML = '';\n",
              "        dataTable['output_type'] = 'display_data';\n",
              "        await google.colab.output.renderOutput(dataTable, element);\n",
              "        const docLink = document.createElement('div');\n",
              "        docLink.innerHTML = docLinkHtml;\n",
              "        element.appendChild(docLink);\n",
              "      }\n",
              "    </script>\n",
              "  </div>\n",
              "\n",
              "\n",
              "    <div id=\"df-879082c6-f20a-48cf-847d-02e4549c1d9e\">\n",
              "      <button class=\"colab-df-quickchart\" onclick=\"quickchart('df-879082c6-f20a-48cf-847d-02e4549c1d9e')\"\n",
              "                title=\"Suggest charts\"\n",
              "                style=\"display:none;\">\n",
              "\n",
              "<svg xmlns=\"http://www.w3.org/2000/svg\" height=\"24px\"viewBox=\"0 0 24 24\"\n",
              "     width=\"24px\">\n",
              "    <g>\n",
              "        <path d=\"M19 3H5c-1.1 0-2 .9-2 2v14c0 1.1.9 2 2 2h14c1.1 0 2-.9 2-2V5c0-1.1-.9-2-2-2zM9 17H7v-7h2v7zm4 0h-2V7h2v10zm4 0h-2v-4h2v4z\"/>\n",
              "    </g>\n",
              "</svg>\n",
              "      </button>\n",
              "\n",
              "<style>\n",
              "  .colab-df-quickchart {\n",
              "      --bg-color: #E8F0FE;\n",
              "      --fill-color: #1967D2;\n",
              "      --hover-bg-color: #E2EBFA;\n",
              "      --hover-fill-color: #174EA6;\n",
              "      --disabled-fill-color: #AAA;\n",
              "      --disabled-bg-color: #DDD;\n",
              "  }\n",
              "\n",
              "  [theme=dark] .colab-df-quickchart {\n",
              "      --bg-color: #3B4455;\n",
              "      --fill-color: #D2E3FC;\n",
              "      --hover-bg-color: #434B5C;\n",
              "      --hover-fill-color: #FFFFFF;\n",
              "      --disabled-bg-color: #3B4455;\n",
              "      --disabled-fill-color: #666;\n",
              "  }\n",
              "\n",
              "  .colab-df-quickchart {\n",
              "    background-color: var(--bg-color);\n",
              "    border: none;\n",
              "    border-radius: 50%;\n",
              "    cursor: pointer;\n",
              "    display: none;\n",
              "    fill: var(--fill-color);\n",
              "    height: 32px;\n",
              "    padding: 0;\n",
              "    width: 32px;\n",
              "  }\n",
              "\n",
              "  .colab-df-quickchart:hover {\n",
              "    background-color: var(--hover-bg-color);\n",
              "    box-shadow: 0 1px 2px rgba(60, 64, 67, 0.3), 0 1px 3px 1px rgba(60, 64, 67, 0.15);\n",
              "    fill: var(--button-hover-fill-color);\n",
              "  }\n",
              "\n",
              "  .colab-df-quickchart-complete:disabled,\n",
              "  .colab-df-quickchart-complete:disabled:hover {\n",
              "    background-color: var(--disabled-bg-color);\n",
              "    fill: var(--disabled-fill-color);\n",
              "    box-shadow: none;\n",
              "  }\n",
              "\n",
              "  .colab-df-spinner {\n",
              "    border: 2px solid var(--fill-color);\n",
              "    border-color: transparent;\n",
              "    border-bottom-color: var(--fill-color);\n",
              "    animation:\n",
              "      spin 1s steps(1) infinite;\n",
              "  }\n",
              "\n",
              "  @keyframes spin {\n",
              "    0% {\n",
              "      border-color: transparent;\n",
              "      border-bottom-color: var(--fill-color);\n",
              "      border-left-color: var(--fill-color);\n",
              "    }\n",
              "    20% {\n",
              "      border-color: transparent;\n",
              "      border-left-color: var(--fill-color);\n",
              "      border-top-color: var(--fill-color);\n",
              "    }\n",
              "    30% {\n",
              "      border-color: transparent;\n",
              "      border-left-color: var(--fill-color);\n",
              "      border-top-color: var(--fill-color);\n",
              "      border-right-color: var(--fill-color);\n",
              "    }\n",
              "    40% {\n",
              "      border-color: transparent;\n",
              "      border-right-color: var(--fill-color);\n",
              "      border-top-color: var(--fill-color);\n",
              "    }\n",
              "    60% {\n",
              "      border-color: transparent;\n",
              "      border-right-color: var(--fill-color);\n",
              "    }\n",
              "    80% {\n",
              "      border-color: transparent;\n",
              "      border-right-color: var(--fill-color);\n",
              "      border-bottom-color: var(--fill-color);\n",
              "    }\n",
              "    90% {\n",
              "      border-color: transparent;\n",
              "      border-bottom-color: var(--fill-color);\n",
              "    }\n",
              "  }\n",
              "</style>\n",
              "\n",
              "      <script>\n",
              "        async function quickchart(key) {\n",
              "          const quickchartButtonEl =\n",
              "            document.querySelector('#' + key + ' button');\n",
              "          quickchartButtonEl.disabled = true;  // To prevent multiple clicks.\n",
              "          quickchartButtonEl.classList.add('colab-df-spinner');\n",
              "          try {\n",
              "            const charts = await google.colab.kernel.invokeFunction(\n",
              "                'suggestCharts', [key], {});\n",
              "          } catch (error) {\n",
              "            console.error('Error during call to suggestCharts:', error);\n",
              "          }\n",
              "          quickchartButtonEl.classList.remove('colab-df-spinner');\n",
              "          quickchartButtonEl.classList.add('colab-df-quickchart-complete');\n",
              "        }\n",
              "        (() => {\n",
              "          let quickchartButtonEl =\n",
              "            document.querySelector('#df-879082c6-f20a-48cf-847d-02e4549c1d9e button');\n",
              "          quickchartButtonEl.style.display =\n",
              "            google.colab.kernel.accessAllowed ? 'block' : 'none';\n",
              "        })();\n",
              "      </script>\n",
              "    </div>\n",
              "\n",
              "    </div>\n",
              "  </div>\n"
            ],
            "application/vnd.google.colaboratory.intrinsic+json": {
              "type": "dataframe",
              "variable_name": "logR",
              "summary": "{\n  \"name\": \"logR\",\n  \"rows\": 1375,\n  \"fields\": [\n    {\n      \"column\": \"Date\",\n      \"properties\": {\n        \"dtype\": \"date\",\n        \"min\": \"2020-01-03 00:00:00-05:00\",\n        \"max\": \"2025-06-24 00:00:00-04:00\",\n        \"num_unique_values\": 1375,\n        \"samples\": [\n          \"2021-12-31 00:00:00-05:00\",\n          \"2020-04-09 00:00:00-04:00\",\n          \"2023-08-24 00:00:00-04:00\"\n        ],\n        \"semantic_type\": \"\",\n        \"description\": \"\"\n      }\n    },\n    {\n      \"column\": \"AAPL\",\n      \"properties\": {\n        \"dtype\": \"number\",\n        \"std\": 0.02052261957678317,\n        \"min\": -0.1377079380743311,\n        \"max\": 0.14261740329172745,\n        \"num_unique_values\": 1372,\n        \"samples\": [\n          -0.018518394523744812,\n          0.040189746530327634,\n          0.03984516138511607\n        ],\n        \"semantic_type\": \"\",\n        \"description\": \"\"\n      }\n    },\n    {\n      \"column\": \"MSFT\",\n      \"properties\": {\n        \"dtype\": \"number\",\n        \"std\": 0.019181359861122474,\n        \"min\": -0.15945367100904384,\n        \"max\": 0.13292883635473604,\n        \"num_unique_values\": 1374,\n        \"samples\": [\n          -0.017684009061358665,\n          -0.04453185910856725,\n          0.02771390063304797\n        ],\n        \"semantic_type\": \"\",\n        \"description\": \"\"\n      }\n    },\n    {\n      \"column\": \"GOOGL\",\n      \"properties\": {\n        \"dtype\": \"number\",\n        \"std\": 0.020691615319837722,\n        \"min\": -0.12368451348852158,\n        \"max\": 0.09734776931467001,\n        \"num_unique_values\": 1374,\n        \"samples\": [\n          -0.019760815408918938,\n          0.04113360937393652,\n          0.016236138179120507\n        ],\n        \"semantic_type\": \"\",\n        \"description\": \"\"\n      }\n    },\n    {\n      \"column\": \"AMZN\",\n      \"properties\": {\n        \"dtype\": \"number\",\n        \"std\": 0.022769805003880046,\n        \"min\": -0.15139791287665294,\n        \"max\": 0.1269489157684572,\n        \"num_unique_values\": 1373,\n        \"samples\": [\n          -0.007400637151307249,\n          0.013390415419768674,\n          0.036879873274693574\n        ],\n        \"semantic_type\": \"\",\n        \"description\": \"\"\n      }\n    }\n  ]\n}"
            }
          },
          "metadata": {},
          "execution_count": 4
        }
      ]
    },
    {
      "cell_type": "code",
      "source": [
        "logR['AAPL'].hist(bins = 50, alpha = 0.7)\n",
        "plt.title('AAPL Daily Log-Return Distribution')\n",
        "plt.show()"
      ],
      "metadata": {
        "colab": {
          "base_uri": "https://localhost:8080/",
          "height": 452
        },
        "id": "BzOJagI5ZY1c",
        "outputId": "6b8b02e6-1800-4448-c515-daf504ff112c"
      },
      "execution_count": 5,
      "outputs": [
        {
          "output_type": "display_data",
          "data": {
            "text/plain": [
              "<Figure size 640x480 with 1 Axes>"
            ],
            "image/png": "[encoded data removed]"
          },
          "metadata": {}
        }
      ]
    },
    {
      "cell_type": "code",
      "source": [
        "logR['MSFT'].hist(bins = 50, alpha = 0.7)\n",
        "plt.title('MSFT Daily Log-Return Distribution')\n",
        "plt.show()"
      ],
      "metadata": {
        "colab": {
          "base_uri": "https://localhost:8080/",
          "height": 452
        },
        "id": "SJlcZ606RdV3",
        "outputId": "8e738fac-6845-4cb4-93b5-dc69f73de0f4"
      },
      "execution_count": 6,
      "outputs": [
        {
          "output_type": "display_data",
          "data": {
            "text/plain": [
              "<Figure size 640x480 with 1 Axes>"
            ],
            "image/png": "[encoded data removed]"
          },
          "metadata": {}
        }
      ]
    },
    {
      "cell_type": "code",
      "source": [
        "summary = pd.DataFrame({\n",
        "    'Mean' : logR.mean(),\n",
        "    'Variance' : logR.var(),\n",
        "    'Skewness' : logR.skew(),\n",
        "    'Kurtosis' : logR.kurtosis()\n",
        "})\n",
        "summary"
      ],
      "metadata": {
        "colab": {
          "base_uri": "https://localhost:8080/",
          "height": 175
        },
        "id": "TVjy21JSZdF9",
        "outputId": "27307692-98d7-46a9-8558-c5fbad047031"
      },
      "execution_count": 7,
      "outputs": [
        {
          "output_type": "execute_result",
          "data": {
            "text/plain": [
              "           Mean  Variance  Skewness  Kurtosis\n",
              "AAPL   0.000738  0.000421  0.021786  6.257710\n",
              "MSFT   0.000846  0.000368 -0.169922  7.521765\n",
              "GOOGL  0.000652  0.000428 -0.224225  3.634325\n",
              "AMZN   0.000587  0.000518 -0.070785  4.205239"
            ],
            "text/html": [
              "\n",
              "  <div id=\"df-3e727cbb-a1e1-4df2-a1d4-7404b1c700ee\" class=\"colab-df-container\">\n",
              "    <div>\n",
              "<style scoped>\n",
              "    .dataframe tbody tr th:only-of-type {\n",
              "        vertical-align: middle;\n",
              "    }\n",
              "\n",
              "    .dataframe tbody tr th {\n",
              "        vertical-align: top;\n",
              "    }\n",
              "\n",
              "    .dataframe thead th {\n",
              "        text-align: right;\n",
              "    }\n",
              "</style>\n",
              "<table border=\"1\" class=\"dataframe\">\n",
              "  <thead>\n",
              "    <tr style=\"text-align: right;\">\n",
              "      <th></th>\n",
              "      <th>Mean</th>\n",
              "      <th>Variance</th>\n",
              "      <th>Skewness</th>\n",
              "      <th>Kurtosis</th>\n",
              "    </tr>\n",
              "  </thead>\n",
              "  <tbody>\n",
              "    <tr>\n",
              "      <th>AAPL</th>\n",
              "      <td>0.000738</td>\n",
              "      <td>0.000421</td>\n",
              "      <td>0.021786</td>\n",
              "      <td>6.257710</td>\n",
              "    </tr>\n",
              "    <tr>\n",
              "      <th>MSFT</th>\n",
              "      <td>0.000846</td>\n",
              "      <td>0.000368</td>\n",
              "      <td>-0.169922</td>\n",
              "      <td>7.521765</td>\n",
              "    </tr>\n",
              "    <tr>\n",
              "      <th>GOOGL</th>\n",
              "      <td>0.000652</td>\n",
              "      <td>0.000428</td>\n",
              "      <td>-0.224225</td>\n",
              "      <td>3.634325</td>\n",
              "    </tr>\n",
              "    <tr>\n",
              "      <th>AMZN</th>\n",
              "      <td>0.000587</td>\n",
              "      <td>0.000518</td>\n",
              "      <td>-0.070785</td>\n",
              "      <td>4.205239</td>\n",
              "    </tr>\n",
              "  </tbody>\n",
              "</table>\n",
              "</div>\n",
              "    <div class=\"colab-df-buttons\">\n",
              "\n",
              "  <div class=\"colab-df-container\">\n",
              "    <button class=\"colab-df-convert\" onclick=\"convertToInteractive('df-3e727cbb-a1e1-4df2-a1d4-7404b1c700ee')\"\n",
              "            title=\"Convert this dataframe to an interactive table.\"\n",
              "            style=\"display:none;\">\n",
              "\n",
              "  <svg xmlns=\"http://www.w3.org/2000/svg\" height=\"24px\" viewBox=\"0 -960 960 960\">\n",
              "    <path d=\"M120-120v-720h720v720H120Zm60-500h600v-160H180v160Zm220 220h160v-160H400v160Zm0 220h160v-160H400v160ZM180-400h160v-160H180v160Zm440 0h160v-160H620v160ZM180-180h160v-160H180v160Zm440 0h160v-160H620v160Z\"/>\n",
              "  </svg>\n",
              "    </button>\n",
              "\n",
              "  <style>\n",
              "    .colab-df-container {\n",
              "      display:flex;\n",
              "      gap: 12px;\n",
              "    }\n",
              "\n",
              "    .colab-df-convert {\n",
              "      background-color: #E8F0FE;\n",
              "      border: none;\n",
              "      border-radius: 50%;\n",
              "      cursor: pointer;\n",
              "      display: none;\n",
              "      fill: #1967D2;\n",
              "      height: 32px;\n",
              "      padding: 0 0 0 0;\n",
              "      width: 32px;\n",
              "    }\n",
              "\n",
              "    .colab-df-convert:hover {\n",
              "      background-color: #E2EBFA;\n",
              "      box-shadow: 0px 1px 2px rgba(60, 64, 67, 0.3), 0px 1px 3px 1px rgba(60, 64, 67, 0.15);\n",
              "      fill: #174EA6;\n",
              "    }\n",
              "\n",
              "    .colab-df-buttons div {\n",
              "      margin-bottom: 4px;\n",
              "    }\n",
              "\n",
              "    [theme=dark] .colab-df-convert {\n",
              "      background-color: #3B4455;\n",
              "      fill: #D2E3FC;\n",
              "    }\n",
              "\n",
              "    [theme=dark] .colab-df-convert:hover {\n",
              "      background-color: #434B5C;\n",
              "      box-shadow: 0px 1px 3px 1px rgba(0, 0, 0, 0.15);\n",
              "      filter: drop-shadow(0px 1px 2px rgba(0, 0, 0, 0.3));\n",
              "      fill: #FFFFFF;\n",
              "    }\n",
              "  </style>\n",
              "\n",
              "    <script>\n",
              "      const buttonEl =\n",
              "        document.querySelector('#df-3e727cbb-a1e1-4df2-a1d4-7404b1c700ee button.colab-df-convert');\n",
              "      buttonEl.style.display =\n",
              "        google.colab.kernel.accessAllowed ? 'block' : 'none';\n",
              "\n",
              "      async function convertToInteractive(key) {\n",
              "        const element = document.querySelector('#df-3e727cbb-a1e1-4df2-a1d4-7404b1c700ee');\n",
              "        const dataTable =\n",
              "          await google.colab.kernel.invokeFunction('convertToInteractive',\n",
              "                                                    [key], {});\n",
              "        if (!dataTable) return;\n",
              "\n",
              "        const docLinkHtml = 'Like what you see? Visit the ' +\n",
              "          '<a target=\"_blank\" href=https://colab.research.google.com/notebooks/data_table.ipynb>data table notebook</a>'\n",
              "          + ' to learn more about interactive tables.';\n",
              "        element.innerHTML = '';\n",
              "        dataTable['output_type'] = 'display_data';\n",
              "        await google.colab.output.renderOutput(dataTable, element);\n",
              "        const docLink = document.createElement('div');\n",
              "        docLink.innerHTML = docLinkHtml;\n",
              "        element.appendChild(docLink);\n",
              "      }\n",
              "    </script>\n",
              "  </div>\n",
              "\n",
              "\n",
              "    <div id=\"df-81ba08b0-5dee-49da-bc32-f75ae2c8b464\">\n",
              "      <button class=\"colab-df-quickchart\" onclick=\"quickchart('df-81ba08b0-5dee-49da-bc32-f75ae2c8b464')\"\n",
              "                title=\"Suggest charts\"\n",
              "                style=\"display:none;\">\n",
              "\n",
              "<svg xmlns=\"http://www.w3.org/2000/svg\" height=\"24px\"viewBox=\"0 0 24 24\"\n",
              "     width=\"24px\">\n",
              "    <g>\n",
              "        <path d=\"M19 3H5c-1.1 0-2 .9-2 2v14c0 1.1.9 2 2 2h14c1.1 0 2-.9 2-2V5c0-1.1-.9-2-2-2zM9 17H7v-7h2v7zm4 0h-2V7h2v10zm4 0h-2v-4h2v4z\"/>\n",
              "    </g>\n",
              "</svg>\n",
              "      </button>\n",
              "\n",
              "<style>\n",
              "  .colab-df-quickchart {\n",
              "      --bg-color: #E8F0FE;\n",
              "      --fill-color: #1967D2;\n",
              "      --hover-bg-color: #E2EBFA;\n",
              "      --hover-fill-color: #174EA6;\n",
              "      --disabled-fill-color: #AAA;\n",
              "      --disabled-bg-color: #DDD;\n",
              "  }\n",
              "\n",
              "  [theme=dark] .colab-df-quickchart {\n",
              "      --bg-color: #3B4455;\n",
              "      --fill-color: #D2E3FC;\n",
              "      --hover-bg-color: #434B5C;\n",
              "      --hover-fill-color: #FFFFFF;\n",
              "      --disabled-bg-color: #3B4455;\n",
              "      --disabled-fill-color: #666;\n",
              "  }\n",
              "\n",
              "  .colab-df-quickchart {\n",
              "    background-color: var(--bg-color);\n",
              "    border: none;\n",
              "    border-radius: 50%;\n",
              "    cursor: pointer;\n",
              "    display: none;\n",
              "    fill: var(--fill-color);\n",
              "    height: 32px;\n",
              "    padding: 0;\n",
              "    width: 32px;\n",
              "  }\n",
              "\n",
              "  .colab-df-quickchart:hover {\n",
              "    background-color: var(--hover-bg-color);\n",
              "    box-shadow: 0 1px 2px rgba(60, 64, 67, 0.3), 0 1px 3px 1px rgba(60, 64, 67, 0.15);\n",
              "    fill: var(--button-hover-fill-color);\n",
              "  }\n",
              "\n",
              "  .colab-df-quickchart-complete:disabled,\n",
              "  .colab-df-quickchart-complete:disabled:hover {\n",
              "    background-color: var(--disabled-bg-color);\n",
              "    fill: var(--disabled-fill-color);\n",
              "    box-shadow: none;\n",
              "  }\n",
              "\n",
              "  .colab-df-spinner {\n",
              "    border: 2px solid var(--fill-color);\n",
              "    border-color: transparent;\n",
              "    border-bottom-color: var(--fill-color);\n",
              "    animation:\n",
              "      spin 1s steps(1) infinite;\n",
              "  }\n",
              "\n",
              "  @keyframes spin {\n",
              "    0% {\n",
              "      border-color: transparent;\n",
              "      border-bottom-color: var(--fill-color);\n",
              "      border-left-color: var(--fill-color);\n",
              "    }\n",
              "    20% {\n",
              "      border-color: transparent;\n",
              "      border-left-color: var(--fill-color);\n",
              "      border-top-color: var(--fill-color);\n",
              "    }\n",
              "    30% {\n",
              "      border-color: transparent;\n",
              "      border-left-color: var(--fill-color);\n",
              "      border-top-color: var(--fill-color);\n",
              "      border-right-color: var(--fill-color);\n",
              "    }\n",
              "    40% {\n",
              "      border-color: transparent;\n",
              "      border-right-color: var(--fill-color);\n",
              "      border-top-color: var(--fill-color);\n",
              "    }\n",
              "    60% {\n",
              "      border-color: transparent;\n",
              "      border-right-color: var(--fill-color);\n",
              "    }\n",
              "    80% {\n",
              "      border-color: transparent;\n",
              "      border-right-color: var(--fill-color);\n",
              "      border-bottom-color: var(--fill-color);\n",
              "    }\n",
              "    90% {\n",
              "      border-color: transparent;\n",
              "      border-bottom-color: var(--fill-color);\n",
              "    }\n",
              "  }\n",
              "</style>\n",
              "\n",
              "      <script>\n",
              "        async function quickchart(key) {\n",
              "          const quickchartButtonEl =\n",
              "            document.querySelector('#' + key + ' button');\n",
              "          quickchartButtonEl.disabled = true;  // To prevent multiple clicks.\n",
              "          quickchartButtonEl.classList.add('colab-df-spinner');\n",
              "          try {\n",
              "            const charts = await google.colab.kernel.invokeFunction(\n",
              "                'suggestCharts', [key], {});\n",
              "          } catch (error) {\n",
              "            console.error('Error during call to suggestCharts:', error);\n",
              "          }\n",
              "          quickchartButtonEl.classList.remove('colab-df-spinner');\n",
              "          quickchartButtonEl.classList.add('colab-df-quickchart-complete');\n",
              "        }\n",
              "        (() => {\n",
              "          let quickchartButtonEl =\n",
              "            document.querySelector('#df-81ba08b0-5dee-49da-bc32-f75ae2c8b464 button');\n",
              "          quickchartButtonEl.style.display =\n",
              "            google.colab.kernel.accessAllowed ? 'block' : 'none';\n",
              "        })();\n",
              "      </script>\n",
              "    </div>\n",
              "\n",
              "  <div id=\"id_79063d32-b96f-49c0-9549-94185ec67e1f\">\n",
              "    <style>\n",
              "      .colab-df-generate {\n",
              "        background-color: #E8F0FE;\n",
              "        border: none;\n",
              "        border-radius: 50%;\n",
              "        cursor: pointer;\n",
              "        display: none;\n",
              "        fill: #1967D2;\n",
              "        height: 32px;\n",
              "        padding: 0 0 0 0;\n",
              "        width: 32px;\n",
              "      }\n",
              "\n",
              "      .colab-df-generate:hover {\n",
              "        background-color: #E2EBFA;\n",
              "        box-shadow: 0px 1px 2px rgba(60, 64, 67, 0.3), 0px 1px 3px 1px rgba(60, 64, 67, 0.15);\n",
              "        fill: #174EA6;\n",
              "      }\n",
              "\n",
              "      [theme=dark] .colab-df-generate {\n",
              "        background-color: #3B4455;\n",
              "        fill: #D2E3FC;\n",
              "      }\n",
              "\n",
              "      [theme=dark] .colab-df-generate:hover {\n",
              "        background-color: #434B5C;\n",
              "        box-shadow: 0px 1px 3px 1px rgba(0, 0, 0, 0.15);\n",
              "        filter: drop-shadow(0px 1px 2px rgba(0, 0, 0, 0.3));\n",
              "        fill: #FFFFFF;\n",
              "      }\n",
              "    </style>\n",
              "    <button class=\"colab-df-generate\" onclick=\"generateWithVariable('summary')\"\n",
              "            title=\"Generate code using this dataframe.\"\n",
              "            style=\"display:none;\">\n",
              "\n",
              "  <svg xmlns=\"http://www.w3.org/2000/svg\" height=\"24px\"viewBox=\"0 0 24 24\"\n",
              "       width=\"24px\">\n",
              "    <path d=\"M7,19H8.4L18.45,9,17,7.55,7,17.6ZM5,21V16.75L18.45,3.32a2,2,0,0,1,2.83,0l1.4,1.43a1.91,1.91,0,0,1,.58,1.4,1.91,1.91,0,0,1-.58,1.4L9.25,21ZM18.45,9,17,7.55Zm-12,3A5.31,5.31,0,0,0,4.9,8.1,5.31,5.31,0,0,0,1,6.5,5.31,5.31,0,0,0,4.9,4.9,5.31,5.31,0,0,0,6.5,1,5.31,5.31,0,0,0,8.1,4.9,5.31,5.31,0,0,0,12,6.5,5.46,5.46,0,0,0,6.5,12Z\"/>\n",
              "  </svg>\n",
              "    </button>\n",
              "    <script>\n",
              "      (() => {\n",
              "      const buttonEl =\n",
              "        document.querySelector('#id_79063d32-b96f-49c0-9549-94185ec67e1f button.colab-df-generate');\n",
              "      buttonEl.style.display =\n",
              "        google.colab.kernel.accessAllowed ? 'block' : 'none';\n",
              "\n",
              "      buttonEl.onclick = () => {\n",
              "        google.colab.notebook.generateWithVariable('summary');\n",
              "      }\n",
              "      })();\n",
              "    </script>\n",
              "  </div>\n",
              "\n",
              "    </div>\n",
              "  </div>\n"
            ],
            "application/vnd.google.colaboratory.intrinsic+json": {
              "type": "dataframe",
              "variable_name": "summary",
              "summary": "{\n  \"name\": \"summary\",\n  \"rows\": 4,\n  \"fields\": [\n    {\n      \"column\": \"Mean\",\n      \"properties\": {\n        \"dtype\": \"number\",\n        \"std\": 0.00011219896833715459,\n        \"min\": 0.0005871875220888492,\n        \"max\": 0.0008464839922017725,\n        \"num_unique_values\": 4,\n        \"samples\": [\n          0.0008464839922017725,\n          0.0005871875220888492,\n          0.0007378648673486942\n        ],\n        \"semantic_type\": \"\",\n        \"description\": \"\"\n      }\n    },\n    {\n      \"column\": \"Variance\",\n      \"properties\": {\n        \"dtype\": \"number\",\n        \"std\": 6.244684005148468e-05,\n        \"min\": 0.0003679245661218804,\n        \"max\": 0.0005184640199147209,\n        \"num_unique_values\": 4,\n        \"samples\": [\n          0.0003679245661218804,\n          0.0005184640199147209,\n          0.0004211779142933638\n        ],\n        \"semantic_type\": \"\",\n        \"description\": \"\"\n      }\n    },\n    {\n      \"column\": \"Skewness\",\n      \"properties\": {\n        \"dtype\": \"number\",\n        \"std\": 0.10884367552904009,\n        \"min\": -0.224224601990157,\n        \"max\": 0.021786235973038318,\n        \"num_unique_values\": 4,\n        \"samples\": [\n          -0.16992161003502884,\n          -0.07078471800121781,\n          0.021786235973038318\n        ],\n        \"semantic_type\": \"\",\n        \"description\": \"\"\n      }\n    },\n    {\n      \"column\": \"Kurtosis\",\n      \"properties\": {\n        \"dtype\": \"number\",\n        \"std\": 1.8057799240988741,\n        \"min\": 3.634325428659288,\n        \"max\": 7.5217650085862715,\n        \"num_unique_values\": 4,\n        \"samples\": [\n          7.5217650085862715,\n          4.205238709927289,\n          6.257709763890274\n        ],\n        \"semantic_type\": \"\",\n        \"description\": \"\"\n      }\n    }\n  ]\n}"
            }
          },
          "metadata": {},
          "execution_count": 7
        }
      ]
    },
    {
      "cell_type": "code",
      "source": [
        "mu_norm, sigma_norm = logR.stack().mean(), logR.stack().std(ddof = 1)\n",
        "\n",
        "N = logR.size\n",
        "z95 = stats.norm.ppf(0.975)\n",
        "ci_mu_norm = (mu_norm - z95 * sigma_norm / np.sqrt(N),\n",
        "              mu_norm + z95 * sigma_norm / np.sqrt(N))\n",
        "\n",
        "df = N-1\n",
        "chi2_low, chi2_high = stats.chi2.ppf([0.025, 0.975], df)\n",
        "ci_sigma_norm = (sigma_norm*np.sqrt(df/chi2_high),\n",
        "                 sigma_norm*np.sqrt(df/chi2_low))\n",
        "\n",
        "print(\"Normal Fit:\")\n",
        "print(f\" µ = {mu_norm:.5f}, 95% CI {ci_mu_norm}\")\n",
        "print(f\" σ = {sigma_norm:.5f}, 95% CI {ci_sigma_norm}\")"
      ],
      "metadata": {
        "id": "JEfMF5q3Zsjs",
        "colab": {
          "base_uri": "https://localhost:8080/"
        },
        "outputId": "dcd5807d-c2ac-4780-d2d1-da6f52c646b9"
      },
      "execution_count": 8,
      "outputs": [
        {
          "output_type": "stream",
          "name": "stdout",
          "text": [
            "Normal Fit:\n",
            " µ = 0.00071, 95% CI (np.float64(0.00015554653772089809), np.float64(0.001256303623844018))\n",
            " σ = 0.02083, 95% CI (np.float64(0.020443454946900426), np.float64(0.021222131241800023))\n"
          ]
        }
      ]
    },
    {
      "cell_type": "code",
      "source": [],
      "metadata": {
        "id": "BOGT9os_RPzp"
      },
      "execution_count": 8,
      "outputs": []
    },
    {
      "cell_type": "code",
      "source": [
        "returns_flat=logR.stack().values\n",
        "df_t,mu_t,sigma_t=stats.t.fit(returns_flat)"
      ],
      "metadata": {
        "id": "UxsBe0hfSK7_"
      },
      "execution_count": 9,
      "outputs": []
    },
    {
      "cell_type": "code",
      "source": [
        "B=1000\n",
        "estimates =np.array([stats.t.fit(np.random.choice(returns_flat,size=N,replace=True))\n",
        "                     for _ in range( B)])\n",
        "ci_mu_t =np.percentile(estimates[:,1], [2.5, 97.5])\n",
        "ci_sigma_t =np.percentile(estimates[:,2], [2.5, 97.5])\n",
        "print(\"Student-t Fit:\")\n",
        "print(f\" df={df_t:.1f}, µ={mu_t:.5f}, σ={sigma_t:.5f}\")\n",
        "print(f\" µ 95% CI {ci_mu_t}\")\n",
        "print(f\" σ 95% CI {ci_sigma_t}\")\n",
        "\n",
        "\n"
      ],
      "metadata": {
        "colab": {
          "base_uri": "https://localhost:8080/"
        },
        "id": "27WxS3pYUpPq",
        "outputId": "739f00c2-816b-441d-8257-ddc5ba5954c1"
      },
      "execution_count": 11,
      "outputs": [
        {
          "output_type": "stream",
          "name": "stdout",
          "text": [
            "Student-t Fit:\n",
            " df=3.7, µ=0.00105, σ=0.01440\n",
            " µ 95% CI [0.00060508 0.00152666]\n",
            " σ 95% CI [0.01389509 0.01490173]\n"
          ]
        }
      ]
    },
    {
      "cell_type": "code",
      "source": [
        "portR =logR.dot(weights)\n",
        "µ_p=portR.mean()\n",
        "σ_p=portR.std(ddof=1)\n",
        "z05=stats.norm.ppf(0.95)\n",
        "VaR_norm= -(µ_p+z05*σ_p)\n",
        "print(f\"VaR_norm={VaR_norm:.5f}\")"
      ],
      "metadata": {
        "colab": {
          "base_uri": "https://localhost:8080/"
        },
        "id": "f6qSJ2HhfuLw",
        "outputId": "750a68b9-f804-464c-ef2e-e729d4f09408"
      },
      "execution_count": 12,
      "outputs": [
        {
          "output_type": "stream",
          "name": "stdout",
          "text": [
            "VaR_norm=-0.03042\n"
          ]
        }
      ]
    },
    {
      "cell_type": "code",
      "source": [
        "t05=stats.t.ppf(0.05,df_t)\n",
        "print(f\"t05={t05:.5f}\")\n",
        "VaR_t =-(mu_t + sigma_t *t05)*1\n",
        "print(f\"VaR_t={VaR_t:.5f}\")"
      ],
      "metadata": {
        "colab": {
          "base_uri": "https://localhost:8080/"
        },
        "id": "CPQDbDMVgKud",
        "outputId": "a549b9a9-7e48-446b-d28d-0b2d4d796f49"
      },
      "execution_count": 13,
      "outputs": [
        {
          "output_type": "stream",
          "name": "stdout",
          "text": [
            "t05=-2.19107\n",
            "VaR_t=0.03050\n"
          ]
        }
      ]
    },
    {
      "cell_type": "code",
      "source": [
        "t_stat ,p_val=stats.ttest_1samp(portR ,0.0)\n",
        "print(f\"t_stat={t_stat:.5f}, p_val={p_val:.5f}\")\n",
        "if p_val<0.05:\n",
        "  print(\"Reject H0: mean return is significantly different from zero\")\n",
        "else:\n",
        "  print(\"Fail to reject H0 \")"
      ],
      "metadata": {
        "id": "XY2j_QMqgdXm",
        "colab": {
          "base_uri": "https://localhost:8080/"
        },
        "outputId": "807a38e6-ea65-4d8c-b95e-595669e57605"
      },
      "execution_count": 14,
      "outputs": [
        {
          "output_type": "stream",
          "name": "stdout",
          "text": [
            "t_stat=1.44914, p_val=0.14753\n",
            "Fail to reject H0 \n"
          ]
        }
      ]
    },
    {
      "cell_type": "code",
      "source": [
        "import seaborn as sns\n",
        "corr =logR.corr()\n",
        "plt.figure(figsize=(6,5))\n",
        "sns.heatmap(corr ,annot=True , cmap='coolwarm',vmin=-1,vmax=1)\n",
        "plt.title('asset Return correlations')\n",
        "plt.show()\n",
        "σ_i=logR.std()\n",
        "σ_weighted =np.dot(weights,σ_i)\n",
        "print(f\"σ_weighted={σ_weighted:.5f}\")\n",
        "print(f\"σ_p={σ_p:.5f}\")\n"
      ],
      "metadata": {
        "colab": {
          "base_uri": "https://localhost:8080/",
          "height": 504
        },
        "id": "VTpGIxEGbiFg",
        "outputId": "0bdfad2a-a748-4cf3-a2a7-938323bb2c0b"
      },
      "execution_count": 15,
      "outputs": [
        {
          "output_type": "display_data",
          "data": {
            "text/plain": [
              "<Figure size 600x500 with 2 Axes>"
            ],
            "image/png": "[encoded data removed]"
          },
          "metadata": {}
        },
        {
          "output_type": "stream",
          "name": "stdout",
          "text": [
            "σ_weighted=0.02079\n",
            "σ_p=0.01806\n"
          ]
        }
      ]
    },
    {
      "cell_type": "code",
      "source": [
        "\n",
        "cum_ret = (prices / prices.iloc[0]).prod(axis=1)\n",
        "\n",
        "cum_port = (portR + 1).cumprod()\n",
        "\n",
        "rolling_max = cum_port.cummax()\n",
        "drawdown = (cum_port - rolling_max) / rolling_max\n",
        "\n",
        "max_dd = drawdown.min()\n",
        "end_date = drawdown.idxmin()\n",
        "start_date = cum_port[:end_date].idxmax()\n",
        "\n",
        "print(f\"Max Drawdown: {max_dd:.2%}\")\n",
        "print(f\"From {start_date.date()} to {end_date.date()}\")\n",
        "\n",
        "\n",
        "plt.figure(figsize=(10,4))\n",
        "plt.plot(cum_port, label='Cumulative')\n",
        "plt.plot(rolling_max, label='Rolling Max')\n",
        "plt.fill_between(drawdown.index, cum_port, rolling_max,\n",
        "                 where=drawdown<0, color='red', alpha=0.3)\n",
        "plt.title('Portfolio Cumulative Return & Drawdown')\n",
        "plt.legend()\n",
        "plt.show()"
      ],
      "metadata": {
        "colab": {
          "base_uri": "https://localhost:8080/",
          "height": 342
        },
        "id": "JvKEvUB_jWnf",
        "outputId": "0d9c63c0-6106-463a-be75-a80c51a81ac8"
      },
      "execution_count": 16,
      "outputs": [
        {
          "output_type": "stream",
          "name": "stdout",
          "text": [
            "Max Drawdown: -43.98%\n",
            "From 2021-12-10 to 2023-01-05\n"
          ]
        },
        {
          "output_type": "display_data",
          "data": {
            "text/plain": [
              "<Figure size 1000x400 with 1 Axes>"
            ],
            "image/png": "[encoded data removed]"
          },
          "metadata": {}
        }
      ]
    },
    {
      "cell_type": "code",
      "source": [
        "\n",
        "alpha = 0.05\n",
        "\n",
        "es_hist =- portR[portR <= np.percentile(portR, 5)].mean()\n",
        "\n",
        "es_norm =-( -μ_p - σ_p * stats.norm.pdf(z05) / alpha)\n",
        "\n",
        "print(\"Historical ES (95%):\", es_hist)\n",
        "print(\"Parametric Normal ES (95%):\", es_norm)\n",
        "\n"
      ],
      "metadata": {
        "colab": {
          "base_uri": "https://localhost:8080/"
        },
        "id": "jd2gaRtclQBk",
        "outputId": "195d3e16-3629-44e9-e14f-73f38e49d724"
      },
      "execution_count": 19,
      "outputs": [
        {
          "output_type": "stream",
          "name": "stdout",
          "text": [
            "Historical ES (95%): 0.04210395766980562\n",
            "Parametric Normal ES (95%): 0.03796561820873816\n"
          ]
        }
      ]
    },
    {
      "cell_type": "code",
      "source": [
        "window = 100  # or whatever fits your strategy\n",
        "\n",
        "var_series = -(portR.rolling(window).mean() + portR.rolling(window).std() * z05)\n",
        "\n",
        "exceptions = portR < var_series\n",
        "num_exc = exceptions.sum()\n",
        "total = len(portR)\n",
        "\n",
        "print(f\"Exceptions: {num_exc}/{total} days ({num_exc/total:.2%}, expected ~5%)\")"
      ],
      "metadata": {
        "colab": {
          "base_uri": "https://localhost:8080/"
        },
        "id": "EuoElS7stAaO",
        "outputId": "cb70d84e-f181-4a2b-d345-511ff8241755"
      },
      "execution_count": 25,
      "outputs": [
        {
          "output_type": "stream",
          "name": "stdout",
          "text": [
            "Exceptions: 72/1375 days (5.24%, expected ~5%)\n"
          ]
        }
      ]
    },
    {
      "cell_type": "code",
      "source": [
        "roll_var=portR.rolling(window).quantile(0.05).dropna()\n",
        "plt.figure(figsize=(10,4))\n",
        "plt.plot(roll_var,label =\"rolling 95% var (hist)\")\n",
        "plt.axhline(VaR_norm ,color='red',linestyle='--',label=\"static VaR\")\n",
        "plt.legend()\n",
        "plt.ylabel('var')\n",
        "plt.title('Rolling 100 day')\n",
        "plt.show()"
      ],
      "metadata": {
        "colab": {
          "base_uri": "https://localhost:8080/",
          "height": 289
        },
        "id": "Vap2GYCMtwC5",
        "outputId": "89eb17bb-fde6-48f4-f4fc-9a3bd40680a0"
      },
      "execution_count": 27,
      "outputs": [
        {
          "output_type": "display_data",
          "data": {
            "text/plain": [
              "<Figure size 1000x400 with 1 Axes>"
            ],
            "image/png": "[encoded data removed]"
          },
          "metadata": {}
        }
      ]
    },
    {
      "cell_type": "code",
      "source": [
        "jb_stat ,jb_p =stats.jarque_bera(portR)\n",
        "print(f\"jb_stat={jb_stat:.5f},jb_p={jb_p:.5f}\")\n",
        "if jb_p<0.05:\n",
        "  print(\"reject normality at 5% level \")\n",
        "else:\n",
        "  print('cannot reject normality')"
      ],
      "metadata": {
        "colab": {
          "base_uri": "https://localhost:8080/"
        },
        "id": "dKRWCzZlviaK",
        "outputId": "cc3ee1b5-a0f0-4aee-ba9d-0c3e331be151"
      },
      "execution_count": 30,
      "outputs": [
        {
          "output_type": "stream",
          "name": "stdout",
          "text": [
            "jb_stat=1239.56081,jb_p=0.00000\n",
            "reject normality at 5% level \n"
          ]
        }
      ]
    }
  ]
}